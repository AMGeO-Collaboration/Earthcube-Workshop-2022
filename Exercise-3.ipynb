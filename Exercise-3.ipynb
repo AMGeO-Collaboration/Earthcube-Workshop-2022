{
 "cells": [
  {
   "cell_type": "markdown",
   "metadata": {},
   "source": [
    "# Exercise 3\n",
    "\n",
    "Here, we want to view spatial data in the context of a certain ground station. One of note is `Poker Flats`\n",
    "\n",
    "Here's a movie of the Poker Flats All-Sky Camera for this date\n",
    "http://optics.gi.alaska.edu/realtime/data/MPEG/PKR_DASC_256/2017/PKR_DASC_20170907_rgb.mpg\n",
    "\n",
    "And this is how the Poker Flat spectrometer keogram looked:\n",
    "http://optics.gi.alaska.edu/realtime/data/PKR_DMSP/Keo_15hr/Keo_15hr/2017/PKR_Keo_15hr_2017-09-07.png"
   ]
  },
  {
   "cell_type": "code",
   "execution_count": null,
   "metadata": {},
   "outputs": [],
   "source": [
    "# for reference, here is the geodetic latitude and longitude of Poker Flats\n",
    "\n",
    "pf_glat = 65.12\n",
    "pf_glon = -147.47"
   ]
  },
  {
   "cell_type": "markdown",
   "metadata": {},
   "source": [
    "Here is a list of relevant steps:\n",
    "\n",
    "1. Get AMGeO Data for a specific day\n",
    "2. Convert Poker Flat's glat/glon to Magnetic coordinates (using [apexpy](https://apexpy.readthedocs.io/en/develop/)) \n",
    "3. Get AMGeO Data Variable of interest over poker flats using selection based on poker flats magnetic coords\n",
    "4. Plot AMGeO data over poker flats time series\n",
    "\n",
    "If up for a challenge, and want to make some cool plots with Cartopy...\n",
    "\n",
    "1. Map AMGeO Magnetic coordinates to Geodetic (can use helper function from util `get_amgeo_geodetic_coords`)\n",
    "2. Plot AMGeO Electric potential over Northern Hemisphere plot in Cartopy\n",
    "3. Plot Poker Flats station on Northern Hemisphere"
   ]
  }
 ],
 "metadata": {
  "interpreter": {
   "hash": "d4d1e4263499bec80672ea0156c357c1ee493ec2b1c70f0acce89fc37c4a6abe"
  },
  "kernelspec": {
   "display_name": "Python 3.9.7 ('base')",
   "language": "python",
   "name": "python3"
  },
  "language_info": {
   "name": "python",
   "version": "3.9.7"
  },
  "orig_nbformat": 4
 },
 "nbformat": 4,
 "nbformat_minor": 2
}
