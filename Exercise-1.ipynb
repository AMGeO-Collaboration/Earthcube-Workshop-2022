{
 "cells": [
  {
   "cell_type": "markdown",
   "metadata": {},
   "source": [
    "# Exercise 1\n",
    "\n",
    "Compare AMGeO integrated Joule Heating to [Knipp et al. 2004 Joule Heating Proxy](https://doi.org/10.1007/s11207-005-6393-4)\n",
    "\n",
    "This will require calling `nasaomnireader.omnireader.omni_interval` on a given interval of data from AMGeO.\n",
    "\n",
    "NOTE: once you have an omni interval from `omni_interval`, you can get the joule heating index from property `knippjh` and the datetime from `Epoch`"
   ]
  }
 ],
 "metadata": {
  "language_info": {
   "name": "python"
  },
  "orig_nbformat": 4
 },
 "nbformat": 4,
 "nbformat_minor": 2
}
