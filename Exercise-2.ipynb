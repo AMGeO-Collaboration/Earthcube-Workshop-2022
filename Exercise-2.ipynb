{
 "cells": [
  {
   "cell_type": "markdown",
   "metadata": {},
   "source": [
    "# Exercise 2\n",
    "\n",
    "Calculate Cross Polar Cap Potential of AMGeO maps and Compare to AMPERE total current\n",
    "\n",
    "Get total current file from [here](http://ampere.jhuapl.edu/products/itot/daily.html)\n",
    "\n",
    "Once the file is downloaded, you can call `read_amp_Itot_dat` from the `util` python file to read the data into a Pandas Dataframe\n",
    "\n",
    "NOTE: some values from AMPERE may not have good data, you will want to look out for these for columns with value `9999.0`"
   ]
  },
  {
   "cell_type": "markdown",
   "metadata": {},
   "source": [
    "Hint 1: you are going to want to compare AMGeO's CPCP to `I total down North [MA]`\n",
    "\n",
    "Hint 2: in a plot, maybe be helpful to scale CPCP "
   ]
  }
 ],
 "metadata": {
  "language_info": {
   "name": "python"
  },
  "orig_nbformat": 4
 },
 "nbformat": 4,
 "nbformat_minor": 2
}
