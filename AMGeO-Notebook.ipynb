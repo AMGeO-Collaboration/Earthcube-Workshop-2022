{
 "cells": [
  {
   "cell_type": "markdown",
   "metadata": {},
   "source": [
    "# AMGeO-Earthcube Hackathon\n",
    "\n",
    "Welcome to AMGeO's 2022 Hackathon!\n",
    "\n",
    "This is a notebook template for getting started using AMGeO's \n",
    "new API\n",
    "\n",
    "Below, when executing this cell, you will need to provide \n",
    "your AMGeO credentials to proceed. Please follow the instructions provided."
   ]
  },
  {
   "cell_type": "code",
   "execution_count": null,
   "metadata": {},
   "outputs": [],
   "source": [
    "# Ignore uunecessary warnings from AMGeO dependencies\n",
    "import warnings\n",
    "warnings.filterwarnings('ignore')"
   ]
  },
  {
   "cell_type": "code",
   "execution_count": 3,
   "metadata": {},
   "outputs": [],
   "source": [
    "from AMGeO.api import AMGeOApi\n",
    "\n",
    "api = AMGeOApi()"
   ]
  },
  {
   "cell_type": "code",
   "execution_count": 4,
   "metadata": {},
   "outputs": [],
   "source": [
    "# set the output dir to directory with some preloaded assimilative maps\n",
    "api.set_output_dir('./amgeo_out')"
   ]
  }
 ],
 "metadata": {
  "interpreter": {
   "hash": "d4d1e4263499bec80672ea0156c357c1ee493ec2b1c70f0acce89fc37c4a6abe"
  },
  "kernelspec": {
   "display_name": "Python 3.9.5 ('base')",
   "language": "python",
   "name": "python3"
  },
  "language_info": {
   "codemirror_mode": {
    "name": "ipython",
    "version": 3
   },
   "file_extension": ".py",
   "mimetype": "text/x-python",
   "name": "python",
   "nbconvert_exporter": "python",
   "pygments_lexer": "ipython3",
   "version": "3.9.7"
  },
  "orig_nbformat": 4
 },
 "nbformat": 4,
 "nbformat_minor": 2
}
